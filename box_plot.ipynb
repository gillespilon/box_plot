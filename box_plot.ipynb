{
 "cells": [
  {
   "cell_type": "markdown",
   "metadata": {},
   "source": [
    "# Box plot"
   ]
  },
  {
   "cell_type": "markdown",
   "metadata": {},
   "source": [
    "# Document\n",
    "\n",
    "<table align=\"left\">\n",
    "    <tr>\n",
    "        <th class=\"text-align:left\">Title</th>\n",
    "        <td class=\"text-align:left\">Box plot</td>\n",
    "    </tr>\n",
    "    <tr>\n",
    "        <th class=\"text-align:left\">Last modified</th>\n",
    "        <td class=\"text-align:left\">2018-11-10</td>\n",
    "    </tr>\n",
    "    <tr>\n",
    "        <th class=\"text-align:left\">Author</th>\n",
    "        <td class=\"text-align:left\">Gilles Pilon <gillespilon13@gmail.com></td>\n",
    "    </tr>\n",
    "    <tr>\n",
    "        <th class=\"text-align:left\">Status</th>\n",
    "        <td class=\"text-align:left\">Active</td>\n",
    "    </tr>\n",
    "    <tr>\n",
    "        <th class=\"text-align:left\">Type</th>\n",
    "        <td class=\"text-align:left\">Jupyter notebook</td>\n",
    "    </tr>\n",
    "    <tr>\n",
    "        <th class=\"text-align:left\">Created</th>\n",
    "        <td class=\"text-align:left\">2017-09-12</td>\n",
    "    </tr>\n",
    "    <tr>\n",
    "        <th class=\"text-align:left\">File name</th>\n",
    "        <td class=\"text-align:left\">box_plot.ipynb</td>\n",
    "    </tr>\n",
    "    <tr>\n",
    "        <th class=\"text-align:left\">Other files required</th>\n",
    "        <td class=\"text-align:left\">data.csv</td>\n",
    "    </tr>\n",
    "</table>"
   ]
  },
  {
   "cell_type": "markdown",
   "metadata": {},
   "source": [
    "# In brevi\n",
    "A box plot is also called a box-and-whisker plot. It displays the distribution of a data set using a five-number summary: minimum, first quartile (Q1), median, third quartile (Q3), and maximum. It can also show the average."
   ]
  },
  {
   "cell_type": "markdown",
   "metadata": {},
   "source": [
    "![[Box plot (T. Kirkman)](http://www.physics.csbsju.edu/stats/box2.html)](images/box_plot.gif)"
   ]
  },
  {
   "cell_type": "markdown",
   "metadata": {},
   "source": [
    "The whiskers extend to the last value before $Q3 + 1.5 * (Q3 - Q1)$ or $Q3 - 1.5 * (Q3 - Q1)$. Outliers are values beyond the whiskers."
   ]
  },
  {
   "cell_type": "code",
   "execution_count": 1,
   "metadata": {},
   "outputs": [],
   "source": [
    "# Start of time estimation for the notebook.\n",
    "from datetime import datetime\n",
    "start_time = datetime.now()"
   ]
  },
  {
   "cell_type": "code",
   "execution_count": 2,
   "metadata": {},
   "outputs": [],
   "source": [
    "import pandas as pd\n",
    "import numpy as np\n",
    "%matplotlib inline\n",
    "%config InlineBacken.figure_format = 'svg'"
   ]
  },
  {
   "cell_type": "code",
   "execution_count": 3,
   "metadata": {},
   "outputs": [],
   "source": [
    "# Use a colour-blind friendly colormap, \"Paired\".\n",
    "import matplotlib.cm as cm\n",
    "colour_1, colour_2, colour_3, colour_4, *_ = cm.Paired.colors"
   ]
  },
  {
   "cell_type": "markdown",
   "metadata": {},
   "source": [
    "# Example one\n",
    "This is a simple box plot. There is no X variable, only a Y."
   ]
  },
  {
   "cell_type": "code",
   "execution_count": 4,
   "metadata": {},
   "outputs": [
    {
     "data": {
      "image/png": "[encoded data removed]",
      "text/plain": [
       "<Figure size 432x288 with 1 Axes>"
      ]
     },
     "metadata": {},
     "output_type": "display_data"
    }
   ],
   "source": [
    "mu, sigma, n = 0, 1, 1000\n",
    "df = pd.DataFrame(np.random.normal(mu, sigma, n))\n",
    "ax = df.plot.box()"
   ]
  },
  {
   "cell_type": "markdown",
   "metadata": {},
   "source": [
    "# Example two"
   ]
  },
  {
   "cell_type": "code",
   "execution_count": 5,
   "metadata": {},
   "outputs": [
    {
     "data": {
      "image/png": "[encoded data removed]",
      "text/plain": [
       "<Figure size 432x288 with 1 Axes>"
      ]
     },
     "metadata": {},
     "output_type": "display_data"
    }
   ],
   "source": [
    "mu, sigma, n = 0, 1, 1000\n",
    "df = pd.DataFrame(np.random.normal(mu, sigma, n))\n",
    "colour_props = dict(boxes=colour_1, whiskers=colour_2,\n",
    "                    medians=colour_3, caps=colour_4)\n",
    "ax = df.plot.box(notch=True, showmeans=True)\n",
    "ax.set_ylabel('Response (data values)')\n",
    "ax.set_title('Box plot')\n",
    "for spine in 'right', 'top':\n",
    "    ax.spines[spine].set_color('none')"
   ]
  },
  {
   "cell_type": "markdown",
   "metadata": {},
   "source": [
    "# Example three\n",
    "The X axis is a variable with many items, called \"City\". The data for each plot plot is across rows for several columns; these are various scores to be summarized by a box plot."
   ]
  },
  {
   "cell_type": "code",
   "execution_count": 6,
   "metadata": {},
   "outputs": [],
   "source": [
    "df = pd.read_csv('data.csv')"
   ]
  },
  {
   "cell_type": "code",
   "execution_count": 7,
   "metadata": {},
   "outputs": [],
   "source": [
    "# Clean up the messed up spacing\n",
    "df['City'] = df['City'].str.split().str.join(' ')\n",
    "df.set_index('City', inplace=True)"
   ]
  },
  {
   "cell_type": "code",
   "execution_count": 8,
   "metadata": {},
   "outputs": [],
   "source": [
    "# Define chart labels\n",
    "chart_title = 'Box Plot'\n",
    "chart_subtitle = 'Balanced Scorecard by Location'\n",
    "chart_ylabel = 'Score (Index)'\n",
    "chart_xlabel = 'Location'"
   ]
  },
  {
   "cell_type": "code",
   "execution_count": 9,
   "metadata": {},
   "outputs": [
    {
     "data": {
      "text/html": [
       "<div>\n",
       "<style scoped>\n",
       "    .dataframe tbody tr th:only-of-type {\n",
       "        vertical-align: middle;\n",
       "    }\n",
       "\n",
       "    .dataframe tbody tr th {\n",
       "        vertical-align: top;\n",
       "    }\n",
       "\n",
       "    .dataframe thead th {\n",
       "        text-align: right;\n",
       "    }\n",
       "</style>\n",
       "<table border=\"1\" class=\"dataframe\">\n",
       "  <thead>\n",
       "    <tr style=\"text-align: right;\">\n",
       "      <th>City</th>\n",
       "      <th>PORT HALLOWELL, PICTON</th>\n",
       "      <th>SAGINAW, MI</th>\n",
       "      <th>FISHER HARBOUR</th>\n",
       "      <th>TORONTO</th>\n",
       "      <th>THUNDER BAY (VALLEY CAMP)</th>\n",
       "      <th>HAMILTON</th>\n",
       "      <th>CANADIAN PARRY SOUND</th>\n",
       "      <th>PARRY SOUND (FOWLER)</th>\n",
       "      <th>BOWMANVILLE</th>\n",
       "      <th>PORT COLBORNE</th>\n",
       "      <th>...</th>\n",
       "      <th>NEWINGTON NH</th>\n",
       "      <th>SOUTH PORTLAND ME</th>\n",
       "      <th>PROVIDENCE, RI (SHIPYARD)</th>\n",
       "      <th>PROVIDENCE, RI (SPRAGUE)</th>\n",
       "      <th>PORTSMOUTH NH</th>\n",
       "      <th>PORT NEWARK NJ</th>\n",
       "      <th>WILMINGTON DE</th>\n",
       "      <th>CHARLESTON SC</th>\n",
       "      <th>SEARSPORT ME</th>\n",
       "      <th>JACKSONVILLE, FL</th>\n",
       "    </tr>\n",
       "  </thead>\n",
       "  <tbody>\n",
       "    <tr>\n",
       "      <th>Cost</th>\n",
       "      <td>1.00</td>\n",
       "      <td>1.25</td>\n",
       "      <td>0.25</td>\n",
       "      <td>1.00</td>\n",
       "      <td>0.50</td>\n",
       "      <td>0.25</td>\n",
       "      <td>0.25</td>\n",
       "      <td>1.25</td>\n",
       "      <td>1.00</td>\n",
       "      <td>0.75</td>\n",
       "      <td>...</td>\n",
       "      <td>1.00</td>\n",
       "      <td>1.00</td>\n",
       "      <td>0.25</td>\n",
       "      <td>0.25</td>\n",
       "      <td>1.25</td>\n",
       "      <td>1.00</td>\n",
       "      <td>0.25</td>\n",
       "      <td>0.50</td>\n",
       "      <td>1.25</td>\n",
       "      <td>0.25</td>\n",
       "    </tr>\n",
       "    <tr>\n",
       "      <th>Environmental</th>\n",
       "      <td>0.75</td>\n",
       "      <td>0.75</td>\n",
       "      <td>1.00</td>\n",
       "      <td>0.75</td>\n",
       "      <td>0.75</td>\n",
       "      <td>0.75</td>\n",
       "      <td>0.75</td>\n",
       "      <td>1.00</td>\n",
       "      <td>1.00</td>\n",
       "      <td>1.00</td>\n",
       "      <td>...</td>\n",
       "      <td>1.00</td>\n",
       "      <td>1.00</td>\n",
       "      <td>0.75</td>\n",
       "      <td>1.00</td>\n",
       "      <td>1.00</td>\n",
       "      <td>0.50</td>\n",
       "      <td>1.00</td>\n",
       "      <td>1.00</td>\n",
       "      <td>1.00</td>\n",
       "      <td>1.00</td>\n",
       "    </tr>\n",
       "    <tr>\n",
       "      <th>Performance</th>\n",
       "      <td>0.60</td>\n",
       "      <td>0.60</td>\n",
       "      <td>0.60</td>\n",
       "      <td>0.60</td>\n",
       "      <td>0.45</td>\n",
       "      <td>0.30</td>\n",
       "      <td>0.60</td>\n",
       "      <td>0.60</td>\n",
       "      <td>0.60</td>\n",
       "      <td>0.75</td>\n",
       "      <td>...</td>\n",
       "      <td>0.45</td>\n",
       "      <td>0.45</td>\n",
       "      <td>0.60</td>\n",
       "      <td>0.45</td>\n",
       "      <td>0.45</td>\n",
       "      <td>0.60</td>\n",
       "      <td>0.45</td>\n",
       "      <td>0.75</td>\n",
       "      <td>0.45</td>\n",
       "      <td>0.45</td>\n",
       "    </tr>\n",
       "    <tr>\n",
       "      <th>Responsiveness</th>\n",
       "      <td>0.40</td>\n",
       "      <td>0.40</td>\n",
       "      <td>0.40</td>\n",
       "      <td>0.40</td>\n",
       "      <td>0.40</td>\n",
       "      <td>0.20</td>\n",
       "      <td>0.50</td>\n",
       "      <td>0.50</td>\n",
       "      <td>0.50</td>\n",
       "      <td>0.50</td>\n",
       "      <td>...</td>\n",
       "      <td>0.40</td>\n",
       "      <td>0.30</td>\n",
       "      <td>0.50</td>\n",
       "      <td>0.30</td>\n",
       "      <td>0.30</td>\n",
       "      <td>0.40</td>\n",
       "      <td>0.30</td>\n",
       "      <td>0.40</td>\n",
       "      <td>0.30</td>\n",
       "      <td>0.30</td>\n",
       "    </tr>\n",
       "    <tr>\n",
       "      <th>Contractual</th>\n",
       "      <td>0.30</td>\n",
       "      <td>0.30</td>\n",
       "      <td>0.75</td>\n",
       "      <td>0.60</td>\n",
       "      <td>0.75</td>\n",
       "      <td>0.45</td>\n",
       "      <td>0.30</td>\n",
       "      <td>0.45</td>\n",
       "      <td>0.75</td>\n",
       "      <td>0.45</td>\n",
       "      <td>...</td>\n",
       "      <td>0.45</td>\n",
       "      <td>0.45</td>\n",
       "      <td>0.45</td>\n",
       "      <td>0.45</td>\n",
       "      <td>0.45</td>\n",
       "      <td>0.45</td>\n",
       "      <td>0.45</td>\n",
       "      <td>0.45</td>\n",
       "      <td>0.45</td>\n",
       "      <td>0.45</td>\n",
       "    </tr>\n",
       "  </tbody>\n",
       "</table>\n",
       "<p>5 rows × 84 columns</p>\n",
       "</div>"
      ],
      "text/plain": [
       "City            PORT HALLOWELL, PICTON  SAGINAW, MI  FISHER HARBOUR  TORONTO  \\\n",
       "Cost                              1.00         1.25            0.25     1.00   \n",
       "Environmental                     0.75         0.75            1.00     0.75   \n",
       "Performance                       0.60         0.60            0.60     0.60   \n",
       "Responsiveness                    0.40         0.40            0.40     0.40   \n",
       "Contractual                       0.30         0.30            0.75     0.60   \n",
       "\n",
       "City            THUNDER BAY (VALLEY CAMP)  HAMILTON  CANADIAN PARRY SOUND  \\\n",
       "Cost                                 0.50      0.25                  0.25   \n",
       "Environmental                        0.75      0.75                  0.75   \n",
       "Performance                          0.45      0.30                  0.60   \n",
       "Responsiveness                       0.40      0.20                  0.50   \n",
       "Contractual                          0.75      0.45                  0.30   \n",
       "\n",
       "City            PARRY SOUND (FOWLER)  BOWMANVILLE  PORT COLBORNE  \\\n",
       "Cost                            1.25         1.00           0.75   \n",
       "Environmental                   1.00         1.00           1.00   \n",
       "Performance                     0.60         0.60           0.75   \n",
       "Responsiveness                  0.50         0.50           0.50   \n",
       "Contractual                     0.45         0.75           0.45   \n",
       "\n",
       "City                  ...         NEWINGTON NH  SOUTH PORTLAND ME  \\\n",
       "Cost                  ...                 1.00               1.00   \n",
       "Environmental         ...                 1.00               1.00   \n",
       "Performance           ...                 0.45               0.45   \n",
       "Responsiveness        ...                 0.40               0.30   \n",
       "Contractual           ...                 0.45               0.45   \n",
       "\n",
       "City            PROVIDENCE, RI (SHIPYARD)  PROVIDENCE, RI (SPRAGUE)  \\\n",
       "Cost                                 0.25                      0.25   \n",
       "Environmental                        0.75                      1.00   \n",
       "Performance                          0.60                      0.45   \n",
       "Responsiveness                       0.50                      0.30   \n",
       "Contractual                          0.45                      0.45   \n",
       "\n",
       "City            PORTSMOUTH NH  PORT NEWARK NJ  WILMINGTON DE  CHARLESTON SC  \\\n",
       "Cost                     1.25            1.00           0.25           0.50   \n",
       "Environmental            1.00            0.50           1.00           1.00   \n",
       "Performance              0.45            0.60           0.45           0.75   \n",
       "Responsiveness           0.30            0.40           0.30           0.40   \n",
       "Contractual              0.45            0.45           0.45           0.45   \n",
       "\n",
       "City            SEARSPORT ME  JACKSONVILLE, FL  \n",
       "Cost                    1.25              0.25  \n",
       "Environmental           1.00              1.00  \n",
       "Performance             0.45              0.45  \n",
       "Responsiveness          0.30              0.30  \n",
       "Contractual             0.45              0.45  \n",
       "\n",
       "[5 rows x 84 columns]"
      ]
     },
     "execution_count": 9,
     "metadata": {},
     "output_type": "execute_result"
    }
   ],
   "source": [
    "# T is transpose index and columns\n",
    "df.T.head()"
   ]
  },
  {
   "cell_type": "code",
   "execution_count": 10,
   "metadata": {},
   "outputs": [
    {
     "data": {
      "text/plain": [
       "(-3.425, 88.425, 0.04250000000000001, 1.3075)"
      ]
     },
     "execution_count": 10,
     "metadata": {},
     "output_type": "execute_result"
    },
    {
     "data": {
      "image/png": "[encoded data removed]",
      "text/plain": [
       "<Figure size 1152x720 with 1 Axes>"
      ]
     },
     "metadata": {},
     "output_type": "display_data"
    }
   ],
   "source": [
    "# T is transpose index and columns\n",
    "#ax = df.T.plot.box(notch=True, showmeans=True)\n",
    "ax = df.T.plot.box(figsize=(16, 10), rot=90, fontsize=4)\n",
    "for spine in 'right', 'top':\n",
    "    ax.spines[spine].set_color('none')\n",
    "ax.set_title(chart_title + '\\n' + chart_subtitle)\n",
    "ax.set_ylabel(chart_ylabel)\n",
    "ax.set_xlabel(chart_xlabel)\n",
    "ax.axis('auto')"
   ]
  },
  {
   "cell_type": "code",
   "execution_count": 11,
   "metadata": {},
   "outputs": [],
   "source": [
    "ax.figure.savefig('box_plot.svg', format='svg')\n",
    "ax.figure.savefig('box_plot.pdf', format='pdf')"
   ]
  },
  {
   "cell_type": "markdown",
   "metadata": {},
   "source": [
    "# Future work\n",
    "\n",
    "I have found several good tutorials and references for matplotlib's artist and will add code here to enhance the box plots."
   ]
  },
  {
   "cell_type": "code",
   "execution_count": 12,
   "metadata": {},
   "outputs": [
    {
     "data": {
      "image/png": "[encoded data removed]",
      "text/plain": [
       "<Figure size 432x288 with 1 Axes>"
      ]
     },
     "metadata": {},
     "output_type": "display_data"
    }
   ],
   "source": [
    "mu, sigma, n = 0, 1, 1000\n",
    "df = pd.DataFrame(np.random.normal(mu, sigma, n))\n",
    "boxprops = dict(linestyle='--', linewidth=1, color='red')\n",
    "colour_props = dict(boxes=colour_1, whiskers=colour_2, medians=colour_3, caps=colour_4)\n",
    "ax = df.boxplot(notch=True, showmeans=True, boxprops=boxprops)\n",
    "ax.set_ylabel('Response (data values)')\n",
    "ax.set_title('Box plot')\n",
    "for spine in 'right', 'top':\n",
    "    ax.spines[spine].set_color('none')"
   ]
  },
  {
   "cell_type": "code",
   "execution_count": 13,
   "metadata": {},
   "outputs": [
    {
     "data": {
      "text/plain": [
       "4.508157"
      ]
     },
     "execution_count": 13,
     "metadata": {},
     "output_type": "execute_result"
    }
   ],
   "source": [
    "end_time = datetime.now()\n",
    "(end_time - start_time).total_seconds()"
   ]
  },
  {
   "cell_type": "markdown",
   "metadata": {},
   "source": [
    "# References\n",
    "Wikipedia. 2017. \"Box plot.\" 2017-08-18. [https://en.wikipedia.org/wiki/Box_plot](https://en.wikipedia.org/wiki/Box_plot)."
   ]
  }
 ],
 "metadata": {
  "kernelspec": {
   "display_name": "Python 3",
   "language": "python",
   "name": "python3"
  },
  "language_info": {
   "codemirror_mode": {
    "name": "ipython",
    "version": 3
   },
   "file_extension": ".py",
   "mimetype": "text/x-python",
   "name": "python",
   "nbconvert_exporter": "python",
   "pygments_lexer": "ipython3",
   "version": "3.6.6"
  }
 },
 "nbformat": 4,
 "nbformat_minor": 2
}
